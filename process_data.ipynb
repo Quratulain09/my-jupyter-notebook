import pandas as pd

# Load the data from the Excel file
file_path = 'Pk-Isb-2023-july-to-27-Jan.xlsx'  # Change the path if needed
df = pd.read_excel(file_path)

# Ensure the 'TIMESTAMP' column is in datetime format
df['TIMESTAMP'] = pd.to_datetime(df['TIMESTAMP'])

# Set the 'TIMESTAMP' column as the index for resampling
df.set_index('TIMESTAMP', inplace=True)

# Resample the data by hour (this averages the data every hour)
hourly_df = df.resample('H').mean()

# Save the hourly averaged data to a new CSV file
hourly_df.to_csv('hourly_averages.csv')

# Display the first few rows of the hourly data
hourly_df.head()
